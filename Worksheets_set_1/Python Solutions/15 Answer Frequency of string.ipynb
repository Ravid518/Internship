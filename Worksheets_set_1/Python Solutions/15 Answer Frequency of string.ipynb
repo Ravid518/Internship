{
 "cells": [
  {
   "cell_type": "code",
   "execution_count": 1,
   "id": "a48dfbac",
   "metadata": {},
   "outputs": [
    {
     "name": "stdout",
     "output_type": "stream",
     "text": [
      "Enter a string: Ravi Shankar Das\n",
      "R 1\n",
      "a 4\n",
      "v 1\n",
      "i 1\n",
      "  2\n",
      "S 1\n",
      "h 1\n",
      "n 1\n",
      "k 1\n",
      "r 1\n",
      "D 1\n",
      "s 1\n"
     ]
    }
   ],
   "source": [
    "string = input(\"Enter a string: \")\n",
    "\n",
    "frequency = {}\n",
    "\n",
    "# iterate over each character in the string\n",
    "for char in string:\n",
    "    # check if the character is already in the dictionary\n",
    "    if char in frequency:\n",
    "        # if it is, increment its frequency by 1\n",
    "        frequency[char] += 1\n",
    "    else:\n",
    "        # if it's not, add it to the dictionary with a frequency of 1\n",
    "        frequency[char] = 1\n",
    "        \n",
    "for char in frequency:\n",
    "    print(char, frequency[char])\n"
   ]
  },
  {
   "cell_type": "code",
   "execution_count": null,
   "id": "00d72318",
   "metadata": {},
   "outputs": [],
   "source": []
  }
 ],
 "metadata": {
  "kernelspec": {
   "display_name": "Python 3 (ipykernel)",
   "language": "python",
   "name": "python3"
  },
  "language_info": {
   "codemirror_mode": {
    "name": "ipython",
    "version": 3
   },
   "file_extension": ".py",
   "mimetype": "text/x-python",
   "name": "python",
   "nbconvert_exporter": "python",
   "pygments_lexer": "ipython3",
   "version": "3.9.12"
  }
 },
 "nbformat": 4,
 "nbformat_minor": 5
}
