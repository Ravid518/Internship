{
 "cells": [
  {
   "cell_type": "code",
   "execution_count": 1,
   "id": "0645c681",
   "metadata": {},
   "outputs": [
    {
     "name": "stdout",
     "output_type": "stream",
     "text": [
      "Enter the length of side a: 4\n",
      "Enter the length of side b: 5\n",
      "The length of the third side (hypotenuse) is 6.4031242374328485\n"
     ]
    }
   ],
   "source": [
    "import math\n",
    "\n",
    "# Function to calculate the third side of a right-angled triangle\n",
    "def get_third_side(a, b):\n",
    "    c = math.sqrt(a**2 + b**2)\n",
    "    return c\n",
    "\n",
    "# Input the lengths of the two sides\n",
    "a = float(input(\"Enter the length of side a: \"))\n",
    "b = float(input(\"Enter the length of side b: \"))\n",
    "\n",
    "# Calculate the length of the third side\n",
    "c = get_third_side(a, b)\n",
    "\n",
    "# Output the length of the third side\n",
    "print(\"The length of the third side (hypotenuse) is\", c)\n"
   ]
  },
  {
   "cell_type": "code",
   "execution_count": null,
   "id": "520fc8c5",
   "metadata": {},
   "outputs": [],
   "source": []
  }
 ],
 "metadata": {
  "kernelspec": {
   "display_name": "Python 3 (ipykernel)",
   "language": "python",
   "name": "python3"
  },
  "language_info": {
   "codemirror_mode": {
    "name": "ipython",
    "version": 3
   },
   "file_extension": ".py",
   "mimetype": "text/x-python",
   "name": "python",
   "nbconvert_exporter": "python",
   "pygments_lexer": "ipython3",
   "version": "3.9.12"
  }
 },
 "nbformat": 4,
 "nbformat_minor": 5
}
